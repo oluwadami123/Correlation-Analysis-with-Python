{
 "cells": [
  {
   "cell_type": "code",
   "execution_count": 31,
   "id": "bf27aa99",
   "metadata": {},
   "outputs": [],
   "source": [
    "#import all the necessary libraries\n",
    "import pandas as pd\n",
    "import matplotlib.pyplot as plt\n",
    "import seaborn as sns \n",
    "\n",
    "import matplotlib\n",
    "sns.set_style(style ='darkgrid')\n",
    "from matplotlib.pyplot import figure\n",
    "\n",
    "%matplotlib inline"
   ]
  },
  {
   "cell_type": "code",
   "execution_count": 2,
   "id": "4472ed29",
   "metadata": {},
   "outputs": [],
   "source": [
    "#import the data using pandas\n",
    "# The data contain the names, Height, Weight, Country/Team,and the Gender of the Athletes\n",
    "df = pd.read_excel(r'C:\\Users\\ADENIRAN\\Desktop\\Height-and-Weight.xlsx')"
   ]
  },
  {
   "cell_type": "code",
   "execution_count": 3,
   "id": "c48f03e0",
   "metadata": {},
   "outputs": [
    {
     "data": {
      "text/plain": [
       "(1587, 6)"
      ]
     },
     "execution_count": 3,
     "metadata": {},
     "output_type": "execute_result"
    }
   ],
   "source": [
    "# we have 1587 rows and 6 columns \n",
    "df.shape"
   ]
  },
  {
   "cell_type": "code",
   "execution_count": 4,
   "id": "06bf27c2",
   "metadata": {},
   "outputs": [
    {
     "name": "stdout",
     "output_type": "stream",
     "text": [
      "<class 'pandas.core.frame.DataFrame'>\n",
      "RangeIndex: 1587 entries, 0 to 1586\n",
      "Data columns (total 6 columns):\n",
      " #   Column        Non-Null Count  Dtype \n",
      "---  ------        --------------  ----- \n",
      " 0   Second name   1587 non-null   object\n",
      " 1   First name    1586 non-null   object\n",
      " 2   Height(cm)    1587 non-null   int64 \n",
      " 3   Weight(kg)    1587 non-null   int64 \n",
      " 4   Country/Team  1587 non-null   object\n",
      " 5   Gender        1587 non-null   object\n",
      "dtypes: int64(2), object(4)\n",
      "memory usage: 74.5+ KB\n"
     ]
    }
   ],
   "source": [
    "df.info()"
   ]
  },
  {
   "cell_type": "code",
   "execution_count": 5,
   "id": "c1571fd4",
   "metadata": {},
   "outputs": [
    {
     "data": {
      "text/html": [
       "<div>\n",
       "<style scoped>\n",
       "    .dataframe tbody tr th:only-of-type {\n",
       "        vertical-align: middle;\n",
       "    }\n",
       "\n",
       "    .dataframe tbody tr th {\n",
       "        vertical-align: top;\n",
       "    }\n",
       "\n",
       "    .dataframe thead th {\n",
       "        text-align: right;\n",
       "    }\n",
       "</style>\n",
       "<table border=\"1\" class=\"dataframe\">\n",
       "  <thead>\n",
       "    <tr style=\"text-align: right;\">\n",
       "      <th></th>\n",
       "      <th>Second name</th>\n",
       "      <th>First name</th>\n",
       "      <th>Height(cm)</th>\n",
       "      <th>Weight(kg)</th>\n",
       "      <th>Country/Team</th>\n",
       "      <th>Gender</th>\n",
       "    </tr>\n",
       "  </thead>\n",
       "  <tbody>\n",
       "    <tr>\n",
       "      <th>0</th>\n",
       "      <td>Abbadi</td>\n",
       "      <td>Ilyas</td>\n",
       "      <td>170</td>\n",
       "      <td>69</td>\n",
       "      <td>Algeria</td>\n",
       "      <td>M</td>\n",
       "    </tr>\n",
       "    <tr>\n",
       "      <th>1</th>\n",
       "      <td>Abbate</td>\n",
       "      <td>Simona</td>\n",
       "      <td>171</td>\n",
       "      <td>64</td>\n",
       "      <td>Italy</td>\n",
       "      <td>W</td>\n",
       "    </tr>\n",
       "    <tr>\n",
       "      <th>2</th>\n",
       "      <td>Abdelaal</td>\n",
       "      <td>Hesham</td>\n",
       "      <td>167</td>\n",
       "      <td>52</td>\n",
       "      <td>Egypt</td>\n",
       "      <td>M</td>\n",
       "    </tr>\n",
       "    <tr>\n",
       "      <th>3</th>\n",
       "      <td>Abdulrahman</td>\n",
       "      <td>Amer</td>\n",
       "      <td>168</td>\n",
       "      <td>68</td>\n",
       "      <td>United Arab Emirates</td>\n",
       "      <td>M</td>\n",
       "    </tr>\n",
       "    <tr>\n",
       "      <th>4</th>\n",
       "      <td>Abian</td>\n",
       "      <td>Pablo</td>\n",
       "      <td>177</td>\n",
       "      <td>78</td>\n",
       "      <td>Spain</td>\n",
       "      <td>M</td>\n",
       "    </tr>\n",
       "  </tbody>\n",
       "</table>\n",
       "</div>"
      ],
      "text/plain": [
       "   Second name First name  Height(cm)  Weight(kg)          Country/Team Gender\n",
       "0       Abbadi     Ilyas          170          69               Algeria      M\n",
       "1       Abbate    Simona          171          64                 Italy      W\n",
       "2     Abdelaal    Hesham          167          52                 Egypt      M\n",
       "3  Abdulrahman      Amer          168          68  United Arab Emirates      M\n",
       "4        Abian     Pablo          177          78                 Spain      M"
      ]
     },
     "execution_count": 5,
     "metadata": {},
     "output_type": "execute_result"
    }
   ],
   "source": [
    "# checking the first five rows of the df\n",
    "df.head()"
   ]
  },
  {
   "cell_type": "code",
   "execution_count": 28,
   "id": "ef3ec77f",
   "metadata": {},
   "outputs": [
    {
     "name": "stdout",
     "output_type": "stream",
     "text": [
      "Second name     0\n",
      "First name      1\n",
      "height          0\n",
      "weight          0\n",
      "Country/Team    0\n",
      "Gender          0\n",
      "dtype: int64\n"
     ]
    }
   ],
   "source": [
    "# Checking if there are missing values \n",
    "pd.set_option('display.max_rows', None)\n",
    "print(df.isnull().sum())\n",
    "# There is 1 missing value in the column for the first name which won't be useful during my analysis"
   ]
  },
  {
   "cell_type": "code",
   "execution_count": 7,
   "id": "f5d7e752",
   "metadata": {},
   "outputs": [],
   "source": [
    "# Renaming the Height(cm) and Weight(kg) columns\n",
    "df.rename(columns={\"Height(cm)\":\"height\",\"Weight(kg)\":\"weight\"},inplace= True)"
   ]
  },
  {
   "cell_type": "code",
   "execution_count": 27,
   "id": "fc83fcaa",
   "metadata": {},
   "outputs": [
    {
     "data": {
      "text/plain": [
       "1587"
      ]
     },
     "execution_count": 27,
     "metadata": {},
     "output_type": "execute_result"
    }
   ],
   "source": [
    "# countinng the values for Male and Female Athletes\n",
    "df['Gender'].value_counts()\n",
    "# we have 869 Male Athletes and 718 Female Athletes\n",
    "869+718"
   ]
  },
  {
   "cell_type": "code",
   "execution_count": 26,
   "id": "6dd1efea",
   "metadata": {},
   "outputs": [
    {
     "data": {
      "text/html": [
       "<div>\n",
       "<style scoped>\n",
       "    .dataframe tbody tr th:only-of-type {\n",
       "        vertical-align: middle;\n",
       "    }\n",
       "\n",
       "    .dataframe tbody tr th {\n",
       "        vertical-align: top;\n",
       "    }\n",
       "\n",
       "    .dataframe thead th {\n",
       "        text-align: right;\n",
       "    }\n",
       "</style>\n",
       "<table border=\"1\" class=\"dataframe\">\n",
       "  <thead>\n",
       "    <tr style=\"text-align: right;\">\n",
       "      <th></th>\n",
       "      <th>height</th>\n",
       "      <th>weight</th>\n",
       "    </tr>\n",
       "  </thead>\n",
       "  <tbody>\n",
       "    <tr>\n",
       "      <th>height</th>\n",
       "      <td>1.000000</td>\n",
       "      <td>0.774625</td>\n",
       "    </tr>\n",
       "    <tr>\n",
       "      <th>weight</th>\n",
       "      <td>0.774625</td>\n",
       "      <td>1.000000</td>\n",
       "    </tr>\n",
       "  </tbody>\n",
       "</table>\n",
       "</div>"
      ],
      "text/plain": [
       "          height    weight\n",
       "height  1.000000  0.774625\n",
       "weight  0.774625  1.000000"
      ]
     },
     "execution_count": 26,
     "metadata": {},
     "output_type": "execute_result"
    }
   ],
   "source": [
    "#let's start by looking the correlation between the heights and the weights of our df\n",
    "# Note: Correlation is based on numerical values only \n",
    "df.corr(method='pearson')"
   ]
  },
  {
   "cell_type": "code",
   "execution_count": 10,
   "id": "11639f1e",
   "metadata": {},
   "outputs": [
    {
     "data": {
      "image/png": "[encoded data removed]",
      "text/plain": [
       "<Figure size 432x288 with 2 Axes>"
      ]
     },
     "metadata": {
      "needs_background": "light"
     },
     "output_type": "display_data"
    }
   ],
   "source": [
    "#Creating the heatmap correlation\n",
    "correlation_matrix= df.corr(method='pearson')\n",
    "\n",
    "plt.title('Correlation Matrix for Height and Weight ')\n",
    "\n",
    "sns.heatmap(correlation_matrix, annot=True)\n",
    "plt.show()"
   ]
  },
  {
   "cell_type": "code",
   "execution_count": 32,
   "id": "e8daad29",
   "metadata": {},
   "outputs": [
    {
     "data": {
      "text/plain": [
       "<Axes: title={'center': 'Scatter plot for both Male and Female Athletes'}, xlabel='height', ylabel='weight'>"
      ]
     },
     "execution_count": 32,
     "metadata": {},
     "output_type": "execute_result"
    },
    {
     "data": {
      "image/png": "[encoded data removed]",
      "text/plain": [
       "<Figure size 864x432 with 1 Axes>"
      ]
     },
     "metadata": {
      "needs_background": "light"
     },
     "output_type": "display_data"
    }
   ],
   "source": [
    "plt.figure(figsize=(12,6))\n",
    "\n",
    "plt.title('Scatter plot for both Male and Female Athletes')\n",
    "\n",
    "sns.regplot(x='height', y='weight', data= df, scatter_kws={\"color\":\"red\"}, line_kws={\"color\":\"blue\"})"
   ]
  },
  {
   "cell_type": "markdown",
   "id": "07c09d0e",
   "metadata": {},
   "source": [
    "# There is a Positive Relationship/Correlation between the heights and Weights of Both Male and Female Athletes \n",
    "# The higher the \"height\", the greater the \"weight\""
   ]
  },
  {
   "cell_type": "code",
   "execution_count": 24,
   "id": "242e8f31",
   "metadata": {},
   "outputs": [
    {
     "data": {
      "text/html": [
       "<div>\n",
       "<style scoped>\n",
       "    .dataframe tbody tr th:only-of-type {\n",
       "        vertical-align: middle;\n",
       "    }\n",
       "\n",
       "    .dataframe tbody tr th {\n",
       "        vertical-align: top;\n",
       "    }\n",
       "\n",
       "    .dataframe thead th {\n",
       "        text-align: right;\n",
       "    }\n",
       "</style>\n",
       "<table border=\"1\" class=\"dataframe\">\n",
       "  <thead>\n",
       "    <tr style=\"text-align: right;\">\n",
       "      <th></th>\n",
       "      <th>Second name</th>\n",
       "      <th>First name</th>\n",
       "      <th>height</th>\n",
       "      <th>weight</th>\n",
       "      <th>Country/Team</th>\n",
       "      <th>Gender</th>\n",
       "    </tr>\n",
       "  </thead>\n",
       "  <tbody>\n",
       "    <tr>\n",
       "      <th>0</th>\n",
       "      <td>Abbadi</td>\n",
       "      <td>Ilyas</td>\n",
       "      <td>170</td>\n",
       "      <td>69</td>\n",
       "      <td>Algeria</td>\n",
       "      <td>M</td>\n",
       "    </tr>\n",
       "    <tr>\n",
       "      <th>2</th>\n",
       "      <td>Abdelaal</td>\n",
       "      <td>Hesham</td>\n",
       "      <td>167</td>\n",
       "      <td>52</td>\n",
       "      <td>Egypt</td>\n",
       "      <td>M</td>\n",
       "    </tr>\n",
       "    <tr>\n",
       "      <th>3</th>\n",
       "      <td>Abdulrahman</td>\n",
       "      <td>Amer</td>\n",
       "      <td>168</td>\n",
       "      <td>68</td>\n",
       "      <td>United Arab Emirates</td>\n",
       "      <td>M</td>\n",
       "    </tr>\n",
       "    <tr>\n",
       "      <th>4</th>\n",
       "      <td>Abian</td>\n",
       "      <td>Pablo</td>\n",
       "      <td>177</td>\n",
       "      <td>78</td>\n",
       "      <td>Spain</td>\n",
       "      <td>M</td>\n",
       "    </tr>\n",
       "    <tr>\n",
       "      <th>5</th>\n",
       "      <td>Abrantes</td>\n",
       "      <td>Arnaldo</td>\n",
       "      <td>184</td>\n",
       "      <td>78</td>\n",
       "      <td>Portugal</td>\n",
       "      <td>M</td>\n",
       "    </tr>\n",
       "  </tbody>\n",
       "</table>\n",
       "</div>"
      ],
      "text/plain": [
       "   Second name First name  height  weight          Country/Team Gender\n",
       "0       Abbadi     Ilyas      170      69               Algeria      M\n",
       "2     Abdelaal    Hesham      167      52                 Egypt      M\n",
       "3  Abdulrahman      Amer      168      68  United Arab Emirates      M\n",
       "4        Abian     Pablo      177      78                 Spain      M\n",
       "5     Abrantes   Arnaldo      184      78              Portugal      M"
      ]
     },
     "execution_count": 24,
     "metadata": {},
     "output_type": "execute_result"
    }
   ],
   "source": [
    "# Finding the Correlation between the heights and weights of Male Athletes only \n",
    "#creating a df for the heights and weights of Male Athletes\n",
    "male_df = df[df['Gender']=='M']\n",
    "male_df.head()"
   ]
  },
  {
   "cell_type": "code",
   "execution_count": 13,
   "id": "dd761398",
   "metadata": {},
   "outputs": [
    {
     "data": {
      "text/plain": [
       "<Axes: title={'center': 'Scatter plot for Male Athletes'}, xlabel='height', ylabel='weight'>"
      ]
     },
     "execution_count": 13,
     "metadata": {},
     "output_type": "execute_result"
    },
    {
     "data": {
      "image/png": "[encoded data removed]",
      "text/plain": [
       "<Figure size 864x432 with 1 Axes>"
      ]
     },
     "metadata": {
      "needs_background": "light"
     },
     "output_type": "display_data"
    }
   ],
   "source": [
    "# Scatter plot for Male Athletes only \n",
    "plt.figure(figsize=(12,6))\n",
    "\n",
    "plt.title('Scatter plot for Male Athletes')\n",
    "\n",
    "sns.regplot(x='height', y='weight', data= male_df, scatter_kws={\"color\":\"black\"}, line_kws={\"color\":\"blue\"})"
   ]
  },
  {
   "cell_type": "code",
   "execution_count": 14,
   "id": "a92c79cb",
   "metadata": {},
   "outputs": [],
   "source": [
    "# The males have greater heights compared to the females "
   ]
  },
  {
   "cell_type": "code",
   "execution_count": 23,
   "id": "0fc0d130",
   "metadata": {},
   "outputs": [
    {
     "data": {
      "text/html": [
       "<div>\n",
       "<style scoped>\n",
       "    .dataframe tbody tr th:only-of-type {\n",
       "        vertical-align: middle;\n",
       "    }\n",
       "\n",
       "    .dataframe tbody tr th {\n",
       "        vertical-align: top;\n",
       "    }\n",
       "\n",
       "    .dataframe thead th {\n",
       "        text-align: right;\n",
       "    }\n",
       "</style>\n",
       "<table border=\"1\" class=\"dataframe\">\n",
       "  <thead>\n",
       "    <tr style=\"text-align: right;\">\n",
       "      <th></th>\n",
       "      <th>Second name</th>\n",
       "      <th>First name</th>\n",
       "      <th>height</th>\n",
       "      <th>weight</th>\n",
       "      <th>Country/Team</th>\n",
       "      <th>Gender</th>\n",
       "    </tr>\n",
       "  </thead>\n",
       "  <tbody>\n",
       "    <tr>\n",
       "      <th>1</th>\n",
       "      <td>Abbate</td>\n",
       "      <td>Simona</td>\n",
       "      <td>171</td>\n",
       "      <td>64</td>\n",
       "      <td>Italy</td>\n",
       "      <td>W</td>\n",
       "    </tr>\n",
       "    <tr>\n",
       "      <th>6</th>\n",
       "      <td>Abril</td>\n",
       "      <td>Erika</td>\n",
       "      <td>158</td>\n",
       "      <td>47</td>\n",
       "      <td>Colombia</td>\n",
       "      <td>W</td>\n",
       "    </tr>\n",
       "    <tr>\n",
       "      <th>10</th>\n",
       "      <td>Achour</td>\n",
       "      <td>Dallal Merwa</td>\n",
       "      <td>176</td>\n",
       "      <td>45</td>\n",
       "      <td>Algeria</td>\n",
       "      <td>W</td>\n",
       "    </tr>\n",
       "    <tr>\n",
       "      <th>14</th>\n",
       "      <td>Adams</td>\n",
       "      <td>Nicola</td>\n",
       "      <td>164</td>\n",
       "      <td>51</td>\n",
       "      <td>Team GB</td>\n",
       "      <td>W</td>\n",
       "    </tr>\n",
       "    <tr>\n",
       "      <th>16</th>\n",
       "      <td>Adeoye</td>\n",
       "      <td>Margaret</td>\n",
       "      <td>162</td>\n",
       "      <td>65</td>\n",
       "      <td>Team GB</td>\n",
       "      <td>W</td>\n",
       "    </tr>\n",
       "  </tbody>\n",
       "</table>\n",
       "</div>"
      ],
      "text/plain": [
       "   Second name     First name  height  weight Country/Team Gender\n",
       "1       Abbate        Simona      171      64        Italy      W\n",
       "6        Abril         Erika      158      47     Colombia      W\n",
       "10      Achour  Dallal Merwa      176      45      Algeria      W\n",
       "14       Adams        Nicola      164      51      Team GB      W\n",
       "16      Adeoye      Margaret      162      65      Team GB      W"
      ]
     },
     "execution_count": 23,
     "metadata": {},
     "output_type": "execute_result"
    }
   ],
   "source": [
    "# Creating a df also for the female Athletes\n",
    "female_df =df[df['Gender']=='W']\n",
    "female_df.head()"
   ]
  },
  {
   "cell_type": "code",
   "execution_count": 16,
   "id": "b83f1e9e",
   "metadata": {},
   "outputs": [
    {
     "data": {
      "text/plain": [
       "<Axes: title={'center': 'Scatter plot for Female Athletes'}, xlabel='height', ylabel='weight'>"
      ]
     },
     "execution_count": 16,
     "metadata": {},
     "output_type": "execute_result"
    },
    {
     "data": {
      "image/png": "[encoded data removed]",
      "text/plain": [
       "<Figure size 864x432 with 1 Axes>"
      ]
     },
     "metadata": {
      "needs_background": "light"
     },
     "output_type": "display_data"
    }
   ],
   "source": [
    "# Creating the scatter plot for Female Athletes only \n",
    "plt.figure(figsize=(12,6))\n",
    "\n",
    "plt.title('Scatter plot for Female Athletes')\n",
    "\n",
    "sns.regplot(x='height', y='weight', data= female_df, scatter_kws={\"color\":\"red\",\"alpha\":0.9}, line_kws={\"color\":\"blue\"})"
   ]
  },
  {
   "cell_type": "code",
   "execution_count": 30,
   "id": "9499728d",
   "metadata": {},
   "outputs": [],
   "source": [
    "# The females have greater weights than heights"
   ]
  },
  {
   "cell_type": "code",
   "execution_count": 35,
   "id": "688ca7aa",
   "metadata": {},
   "outputs": [
    {
     "data": {
      "text/plain": [
       "Second name       Zhang\n",
       "First name      Zhaoxu \n",
       "height              219\n",
       "weight              110\n",
       "Country/Team      China\n",
       "Gender                M\n",
       "Name: 1578, dtype: object"
      ]
     },
     "execution_count": 35,
     "metadata": {},
     "output_type": "execute_result"
    }
   ],
   "source": [
    "male_with_heighest_height = male_df.loc[male_df['height'].idxmax()]\n",
    "male_with_heighest_height"
   ]
  },
  {
   "cell_type": "markdown",
   "id": "b32ec7c0",
   "metadata": {},
   "source": [
    "# Male Athletes with heighest height(cm) \n",
    "### Name: Zhaoxu Zhang\n",
    "### Country: China\n",
    "### Gender: Male \n",
    "### Height: 185cm\n",
    "### Weight: 110kg"
   ]
  },
  {
   "cell_type": "code",
   "execution_count": 34,
   "id": "5bd30b25",
   "metadata": {},
   "outputs": [
    {
     "data": {
      "text/plain": [
       "Second name      Blas Jr\n",
       "First name      Ricardo \n",
       "height               185\n",
       "weight               218\n",
       "Country/Team        Guam\n",
       "Gender                 M\n",
       "Name: 141, dtype: object"
      ]
     },
     "execution_count": 34,
     "metadata": {},
     "output_type": "execute_result"
    }
   ],
   "source": [
    "male_with_heighest_weight = male_df.loc[male_df['weight'].idxmax()]\n",
    "male_with_heighest_weight"
   ]
  },
  {
   "cell_type": "markdown",
   "id": "fd783470",
   "metadata": {},
   "source": [
    "# Male with the highest weight(kg)\n",
    "### Name: Ricardo Bias Jr\n",
    "### Country: Guam\n",
    "### Gender: Male\n",
    "### Height: 185\n",
    "### Weight: 218"
   ]
  },
  {
   "cell_type": "code",
   "execution_count": 33,
   "id": "70aebba2",
   "metadata": {},
   "outputs": [
    {
     "data": {
      "text/plain": [
       "Second name      Michel\n",
       "First name       Ciara \n",
       "height              194\n",
       "weight               70\n",
       "Country/Team    Team GB\n",
       "Gender                W\n",
       "Name: 920, dtype: object"
      ]
     },
     "execution_count": 33,
     "metadata": {},
     "output_type": "execute_result"
    }
   ],
   "source": [
    "female_with_highest_height = female_df.loc[female_df['height'].idxmax()]\n",
    "female_with_highest_height"
   ]
  },
  {
   "cell_type": "markdown",
   "id": "c692524b",
   "metadata": {
    "scrolled": false
   },
   "source": [
    "# Female with the highest Height(cm)\n",
    "### Name: Ciara Michel\n",
    "### Country: Team GB\n",
    "### Gender: Female\n",
    "### Height: 194\n",
    "### Weight: 70"
   ]
  },
  {
   "cell_type": "code",
   "execution_count": 36,
   "id": "0c89c9d8",
   "metadata": {},
   "outputs": [
    {
     "data": {
      "text/plain": [
       "Second name        Gong\n",
       "First name      Lijiao \n",
       "height              175\n",
       "weight              108\n",
       "Country/Team      China\n",
       "Gender                W\n",
       "Name: 499, dtype: object"
      ]
     },
     "execution_count": 36,
     "metadata": {},
     "output_type": "execute_result"
    }
   ],
   "source": [
    "female_with_highest_weight = female_df.loc[female_df['weight'].idxmax()]\n",
    "female_with_highest_weight"
   ]
  },
  {
   "cell_type": "markdown",
   "id": "1bb1a28d",
   "metadata": {},
   "source": [
    "# Female with the highest Weight(cm)\n",
    "### Name: Lijiao Gong\n",
    "### Country: China\n",
    "### Gender: Female\n",
    "### Height: 175\n",
    "### Weight: 108"
   ]
  },
  {
   "cell_type": "code",
   "execution_count": null,
   "id": "1ff1e35f",
   "metadata": {},
   "outputs": [],
   "source": []
  },
  {
   "cell_type": "code",
   "execution_count": null,
   "id": "b40d5f3f",
   "metadata": {},
   "outputs": [],
   "source": []
  },
  {
   "cell_type": "code",
   "execution_count": null,
   "id": "80594523",
   "metadata": {},
   "outputs": [],
   "source": []
  },
  {
   "cell_type": "code",
   "execution_count": null,
   "id": "ba0bbc29",
   "metadata": {
    "scrolled": true
   },
   "outputs": [],
   "source": []
  },
  {
   "cell_type": "code",
   "execution_count": null,
   "id": "24902c25",
   "metadata": {},
   "outputs": [],
   "source": []
  },
  {
   "cell_type": "code",
   "execution_count": null,
   "id": "afc1eabd",
   "metadata": {},
   "outputs": [],
   "source": []
  },
  {
   "cell_type": "code",
   "execution_count": null,
   "id": "243fb040",
   "metadata": {},
   "outputs": [],
   "source": []
  },
  {
   "cell_type": "code",
   "execution_count": null,
   "id": "d67bca42",
   "metadata": {},
   "outputs": [],
   "source": []
  }
 ],
 "metadata": {
  "kernelspec": {
   "display_name": "Python 3 (ipykernel)",
   "language": "python",
   "name": "python3"
  },
  "language_info": {
   "codemirror_mode": {
    "name": "ipython",
    "version": 3
   },
   "file_extension": ".py",
   "mimetype": "text/x-python",
   "name": "python",
   "nbconvert_exporter": "python",
   "pygments_lexer": "ipython3",
   "version": "3.9.12"
  }
 },
 "nbformat": 4,
 "nbformat_minor": 5
}
